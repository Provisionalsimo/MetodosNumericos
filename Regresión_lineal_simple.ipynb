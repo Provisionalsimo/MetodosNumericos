{
  "cells": [
    {
      "cell_type": "markdown",
      "metadata": {
        "id": "view-in-github",
        "colab_type": "text"
      },
      "source": [
        "<a href=\"https://colab.research.google.com/github/Provisionalsimo/MetodosNumericos/blob/main/Regresi%C3%B3n_lineal_simple.ipynb\" target=\"_parent\"><img src=\"https://colab.research.google.com/assets/colab-badge.svg\" alt=\"Open In Colab\"/></a>"
      ]
    },
    {
      "cell_type": "markdown",
      "metadata": {
        "id": "O-JvkUcn5jot"
      },
      "source": [
        "# Regresión lineal para aprendijaze de máquina\n",
        "\n",
        "Este cuadernillo se usa para hacer una predicción mediante el método de regresión linea simple. Se usa la biblioteca Sklearn sobre aprendizaje de máquina para ello.\n",
        "\n",
        "Lo primero es **visualizar los datos de entrada**.\n",
        "\n",
        "Se crea un conjunto de datos para empezar y con ellos se hacen de múltiples ejemplos, todos con una sola característica."
      ]
    },
    {
      "cell_type": "code",
      "execution_count": null,
      "metadata": {
        "id": "AMb0qdmq5jpC",
        "outputId": "9652a35b-29c6-4c3b-abf7-a7df11a6742a",
        "colab": {
          "base_uri": "https://localhost:8080/",
          "height": 298
        }
      },
      "outputs": [
        {
          "output_type": "execute_result",
          "data": {
            "text/plain": [
              "<matplotlib.collections.PathCollection at 0x7f14f6b03410>"
            ]
          },
          "metadata": {},
          "execution_count": 12
        },
        {
          "output_type": "display_data",
          "data": {
            "image/png": "[encoded data removed]",
            "text/plain": [
              "<Figure size 432x288 with 1 Axes>"
            ]
          },
          "metadata": {
            "needs_background": "light"
          }
        }
      ],
      "source": [
        "from sklearn import datasets\n",
        "import numpy as np\n",
        "import matplotlib.pyplot as plt\n",
        "\n",
        "# Crear un conjunto de datos aleatorio\n",
        "muestras = 30 # número de muestras\n",
        "ejeX, ejeY = datasets.make_regression(n_features = 1, n_samples = muestras, random_state = 10, noise = 3)\n",
        "\n",
        "# Comprobar los forma de los datos de entrada\n",
        "# Y mostrar ese conjunto de datos\n",
        "plt.title('Datos de entrada')\n",
        "plt.scatter(ejeX, ejeY, color='red', marker='o')"
      ]
    },
    {
      "cell_type": "markdown",
      "metadata": {
        "id": "PoDmROAx5jpM"
      },
      "source": [
        "## Generación del modelo analítico\n",
        "\n",
        "La hipótesis manejada para un ejemplo sencillo es: $h(x)=\\theta_{0} + \\theta_{1}x$ donde se busca un $\\theta$ para minimizar el modelo.\n",
        "\n",
        "Los métodos iterativos (como el gradiente descendente) podrían aplicarse para minimizar la función pero en este caso se va a usar la siguiente **ecuación normal**.\n",
        "\n",
        "$$(X^{T}X)^{-1}.(X^{T}y)$$\n",
        "\n"
      ]
    },
    {
      "cell_type": "code",
      "execution_count": null,
      "metadata": {
        "id": "W5kuiOVz5jpQ"
      },
      "outputs": [],
      "source": [
        "# Computar los datos del eje x en una matriz\n",
        "matrizX = np.ones((muestras, 3)) \n",
        "matrizX[:,2] = ejeX.reshape(muestras)\n",
        "\n",
        "# Computar la matriz transpuesta \n",
        "Xtranspuesta = np.transpose(matrizX)\n",
        "\n",
        "# Hallar los parámetros usando la ecuación normal anteriormente indicada: \n",
        "parametros = np.linalg.pinv(np.dot(Xtranspuesta, matrizX)).dot(np.dot(Xtranspuesta, ejeY))"
      ]
    },
    {
      "cell_type": "markdown",
      "metadata": {
        "id": "E8ZRtXSj5jpT"
      },
      "source": [
        "## Generar modelo (Gradiente descendente)\n",
        "\n",
        "El gradiente descendiente es un método de optimización numérica para estimar  los mejores coeficientes que minimizan la función de coste.\n",
        "\n",
        "Una función de costo común es (usando el error cuadrático medio) sobre $m$ ejemplos es:\n",
        "\n",
        "\n",
        "\n",
        "\n"
      ]
    },
    {
      "cell_type": "markdown",
      "metadata": {
        "id": "2twWuswp5jpX"
      },
      "source": [
        "$$J(\\theta_{0}, \\theta_{1})= \\frac{1}{2m} \\sum_{i=1}^{m}{\\left (h_{\\theta}(x_{i})-y_{i} \\right )^2}$$\n",
        "\n",
        "Las **derivadas parciales** de $\\frac{\\partial J}{\\partial \\theta_{0}}$ :\n",
        "\n",
        "$$\\frac{\\partial J}{\\partial \\theta_{0}} = \\frac{1}{m} \\sum_{i=1}^{m}{\\left (h_{\\theta}(x_{i})-y_{i} \\right )}$$\n",
        "\n",
        "Las **derivadas parciales** de $\\frac{\\partial J}{\\partial \\theta_{1}}$ :\n",
        "\n",
        "$$\\frac{\\partial J}{\\partial \\theta_{1}} = \\frac{1}{m} \\sum_{i=1}^{m}{\\left (h_{\\theta}(x_{i})-y_{i} \\right ).x_{i}}$$\n",
        "\n"
      ]
    },
    {
      "cell_type": "code",
      "execution_count": null,
      "metadata": {
        "id": "31tYgvmj5jpa",
        "outputId": "4e70b3e6-620d-4fd9-a632-6b10c15a6680",
        "colab": {
          "base_uri": "https://localhost:8080/",
          "height": 312
        }
      },
      "outputs": [
        {
          "output_type": "execute_result",
          "data": {
            "text/plain": [
              "[<matplotlib.lines.Line2D at 0x7f14f664eed0>]"
            ]
          },
          "metadata": {},
          "execution_count": 21
        },
        {
          "output_type": "display_data",
          "data": {
            "image/png": "[encoded data removed]",
            "text/plain": [
              "<Figure size 432x288 with 1 Axes>"
            ]
          },
          "metadata": {
            "needs_background": "light"
          }
        }
      ],
      "source": [
        "# Implementación vectorizada de las anteriores ecuaciones\n",
        "iteraciones = 100\n",
        "tasaAprendizaje = 0.05\n",
        "parametros = np.zeros(2)\n",
        "\n",
        "# Computar la matriz X\n",
        "matrizX = np.ones((muestras, 2)) \n",
        "matrizX[:,1] = ejeX.reshape(muestras)\n",
        "\n",
        "# Gradiente descendente\n",
        "estadisticas = np.empty(iteraciones)\n",
        "\n",
        "for i in range(iteraciones):\n",
        "    # Actualizar parametros\n",
        "    error = (np.dot(matrizX, parametros) - ejeY)\n",
        "    parametros[0] -= np.mean(error * matrizX[:,0]) * tasaAprendizaje\n",
        "    parametros[1] -= np.mean(error * matrizX[:,1]) * tasaAprendizaje\n",
        "    \n",
        "    # Almacenar el costo para futuras graficaciones\n",
        "    errorNuevo = (np.dot(matrizX, parametros) - ejeY)\n",
        "    costo = np.dot(errorNuevo, errorNuevo) / (2*muestras)\n",
        "    estadisticas[i] = costo\n",
        "\n",
        "plt.title('Gradiente descendente (costo)')\n",
        "plt.ylabel('Costo')\n",
        "plt.xlabel('Iteración')\n",
        "plt.plot(range(iteraciones),estadisticas,'-s', alpha=0.2)"
      ]
    },
    {
      "cell_type": "markdown",
      "metadata": {
        "id": "M4MqcE7t5jpf"
      },
      "source": [
        "## Predicción del comportamiento de los datos de entrada"
      ]
    },
    {
      "cell_type": "code",
      "execution_count": null,
      "metadata": {
        "id": "P4TowOTT5jph",
        "outputId": "082ae12b-6103-46f8-ab8f-b32ed9e8ce8d",
        "colab": {
          "base_uri": "https://localhost:8080/",
          "height": 298
        }
      },
      "outputs": [
        {
          "output_type": "execute_result",
          "data": {
            "text/plain": [
              "[<matplotlib.lines.Line2D at 0x7f14f6457250>]"
            ]
          },
          "metadata": {},
          "execution_count": 27
        },
        {
          "output_type": "display_data",
          "data": {
            "image/png": "[encoded data removed]",
            "text/plain": [
              "<Figure size 432x288 with 1 Axes>"
            ]
          },
          "metadata": {
            "needs_background": "light"
          }
        }
      ],
      "source": [
        "minimo=np.min(ejeX)\n",
        "maximo=np.max(ejeX)\n",
        "trazarX = np.linspace(minimo,maximo,500)\n",
        "trazarY = parametros[0] + parametros[1] * trazarX \n",
        "\n",
        "plt.scatter(ejeX, ejeY, color='yellowgreen', marker='.')\n",
        "plt.title('Input Data and Prediction')\n",
        "plt.plot(trazarX, trazarY,'-s', alpha=0.3)"
      ]
    }
  ],
  "metadata": {
    "kernelspec": {
      "display_name": "Python 3",
      "language": "python",
      "name": "python3"
    },
    "language_info": {
      "codemirror_mode": {
        "name": "ipython",
        "version": 3
      },
      "file_extension": ".py",
      "mimetype": "text/x-python",
      "name": "python",
      "nbconvert_exporter": "python",
      "pygments_lexer": "ipython3",
      "version": "3.7.7"
    },
    "colab": {
      "name": "Regresión_lineal_simple.ipynb",
      "provenance": [],
      "collapsed_sections": [],
      "include_colab_link": true
    }
  },
  "nbformat": 4,
  "nbformat_minor": 0
}